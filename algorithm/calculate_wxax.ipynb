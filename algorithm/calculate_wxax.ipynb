{
 "cells": [
  {
   "cell_type": "markdown",
   "metadata": {},
   "source": [
    "## Calcular modelo de `Who X also X`\n",
    "Calculo do modelo de estudo paseado na interação de visualização de produtos num e-commerce, assim  criando um modelo de recomendação `quem-viu-tambem-viu`"
   ]
  },
  {
   "cell_type": "code",
   "execution_count": 1,
   "metadata": {},
   "outputs": [],
   "source": [
    "# Importação para carregar o Spark\n",
    "import findspark\n",
    "findspark.init()"
   ]
  },
  {
   "cell_type": "markdown",
   "metadata": {},
   "source": [
    "### Importação da bibliotecas\n"
   ]
  },
  {
   "cell_type": "code",
   "execution_count": 2,
   "metadata": {},
   "outputs": [],
   "source": [
    "import pandas as pd\n",
    "\n",
    "from pyspark.sql.functions import *\n",
    "from pyspark.sql import SparkSession\n",
    " \n",
    "from pyspark.sql.types import DoubleType\n",
    "from pyspark.sql.window import Window\n",
    "\n",
    "spark = (\n",
    "    SparkSession.builder\\\n",
    "    .master(\"local\")\n",
    "    .appName(\"bart-calcullate-wxax\")\\\n",
    "    .getOrCreate()\n",
    ")"
   ]
  },
  {
   "cell_type": "markdown",
   "metadata": {},
   "source": [
    "### Calculando Recomendações"
   ]
  },
  {
   "cell_type": "code",
   "execution_count": 3,
   "metadata": {},
   "outputs": [],
   "source": [
    "# Constants\n",
    "action_type = 1\n",
    "attributes = ['source_item_id']\n",
    "min_occurrence = 2\n",
    "max_recommendations = 200"
   ]
  },
  {
   "cell_type": "code",
   "execution_count": 4,
   "metadata": {},
   "outputs": [
    {
     "name": "stdout",
     "output_type": "stream",
     "text": [
      "root\n",
      " |-- Unnamed: 0: long (nullable = true)\n",
      " |-- customer_id: string (nullable = true)\n",
      " |-- product_id: string (nullable = true)\n",
      " |-- action_id: long (nullable = true)\n",
      " |-- timestamp: double (nullable = true)\n",
      "\n"
     ]
    }
   ],
   "source": [
    "# Carregando Datasets\n",
    "actions = spark.createDataFrame(\n",
    "    pd.read_csv(\"./interactions.csv\")\n",
    ")\n",
    "actions.printSchema()"
   ]
  },
  {
   "cell_type": "code",
   "execution_count": 5,
   "metadata": {},
   "outputs": [],
   "source": [
    "# Inputs\n",
    "source_actions = actions.filter(actions.action_id == action_type).alias(\n",
    "    'source'\n",
    ")\n",
    "target_actions = actions.filter(actions.action_id == action_type).alias(\n",
    "    'target'\n",
    ")\n",
    "\n",
    "raw_recommendations = (\n",
    "    source_actions.join(target_actions, 'customer_id', 'inner')\n",
    "    .filter('source.product_id <> target.product_id')\n",
    "    .groupBy('source.product_id', 'target.product_id')\n",
    "    .count()\n",
    "    .filter(col('count') > min_occurrence)\n",
    "    .selectExpr(\n",
    "        'source.product_id as source_item_id',\n",
    "        'target.product_id as recommended_item_id',\n",
    "        'count as score',\n",
    "    )\n",
    ")"
   ]
  },
  {
   "cell_type": "markdown",
   "metadata": {},
   "source": [
    "### Recomendação de Conteúdo para o Usuário"
   ]
  },
  {
   "cell_type": "code",
   "execution_count": 6,
   "metadata": {},
   "outputs": [],
   "source": [
    "# Filter recommendations\n",
    "window = Window.partitionBy(*attributes).orderBy(\n",
    "    raw_recommendations.score.cast(DoubleType()).desc()\n",
    ")\n",
    "limit_recommendations = raw_recommendations.withColumn(\n",
    "    'rank', dense_rank().over(window)\n",
    ").filter(f'rank <= {max_recommendations}')"
   ]
  },
  {
   "cell_type": "code",
   "execution_count": 7,
   "metadata": {},
   "outputs": [],
   "source": [
    "# Groub by recommendations\n",
    "group_by = limit_recommendations.groupBy(*attributes)\n",
    "group_recommendations = group_by.agg(\n",
    "    collect_set(\n",
    "        struct(\n",
    "            limit_recommendations.recommended_item_id,\n",
    "            limit_recommendations.score.cast(DoubleType()).alias('score'),\n",
    "        )\n",
    "    ).alias('recommendations')\n",
    ")"
   ]
  },
  {
   "cell_type": "code",
   "execution_count": 8,
   "metadata": {},
   "outputs": [
    {
     "name": "stdout",
     "output_type": "stream",
     "text": [
      "+--------------+--------------------+\n",
      "|source_item_id|     recommendations|\n",
      "+--------------+--------------------+\n",
      "|      Dce730CE|[[39D90E8F, 1351....|\n",
      "|      a827F4CD|[[2E305BAe, 1547....|\n",
      "|      24d1E961|[[4b15bf94, 1517....|\n",
      "|      aFaAe1F4|[[CCcd595A, 1464....|\n",
      "|      3cDfe90c|[[FA1CacBa, 1465....|\n",
      "+--------------+--------------------+\n",
      "only showing top 5 rows\n",
      "\n"
     ]
    }
   ],
   "source": [
    "# Recommended User Product\n",
    "group_recommendations.show(n=5)"
   ]
  }
 ],
 "metadata": {
  "kernelspec": {
   "display_name": "bart-datasets",
   "language": "python",
   "name": "bart-datasets"
  },
  "language_info": {
   "codemirror_mode": {
    "name": "ipython",
    "version": 3
   },
   "file_extension": ".py",
   "mimetype": "text/x-python",
   "name": "python",
   "nbconvert_exporter": "python",
   "pygments_lexer": "ipython3",
   "version": "3.6.10"
  }
 },
 "nbformat": 4,
 "nbformat_minor": 2
}
