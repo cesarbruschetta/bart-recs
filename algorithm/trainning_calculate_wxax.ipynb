{
 "cells": [
  {
   "cell_type": "markdown",
   "metadata": {},
   "source": [
    "## Treinamento do modelo de `Who X also X`\n",
    "Treinamento do modelo  de estudo paseado na interação de visualização de produtos num e-commerce, assim  criando um modelo de recomendação `quem-viu-tambem-viu`"
   ]
  },
  {
   "cell_type": "markdown",
   "metadata": {},
   "source": [
    "### Importação da bibliotecas"
   ]
  },
  {
   "cell_type": "code",
   "execution_count": null,
   "metadata": {},
   "outputs": [],
   "source": [
    "import pandas as pd\n",
    "import numpy as np"
   ]
  },
  {
   "cell_type": "markdown",
   "metadata": {},
   "source": [
    "### Lendo DataSets de produtos e interações"
   ]
  },
  {
   "cell_type": "code",
   "execution_count": null,
   "metadata": {},
   "outputs": [],
   "source": [
    "df_products = pd.read_csv('products.csv')\n",
    "\n",
    "df_interactions = pd.read_csv('interactions.csv')\n",
    "df_interactions.head()"
   ]
  },
  {
   "cell_type": "markdown",
   "metadata": {},
   "source": [
    "### Gerando Matriz de Usuarios x Produtos vistos"
   ]
  },
  {
   "cell_type": "code",
   "execution_count": null,
   "metadata": {},
   "outputs": [],
   "source": [
    "df_interactions = df_interactions[['customer_id', 'product_id', 'action_id']]\n",
    "users_items_matrix_df = df_interactions.pivot_table(\n",
    "    index='customer_id',\n",
    "    columns='product_id',\n",
    "    values='action_id',\n",
    ").fillna(0)\n",
    "users_items_matrix_df.head()"
   ]
  },
  {
   "cell_type": "markdown",
   "metadata": {},
   "source": [
    "### Modelo Keras com encoder e decoder\n",
    "\n",
    "Implementão do modelo conténdo um layer no encoder e um no decoder de tamanho 512, o espaço-latente no centro do modelo tem 256 dimensões."
   ]
  },
  {
   "cell_type": "code",
   "execution_count": null,
   "metadata": {},
   "outputs": [],
   "source": [
    "from keras.optimizers import Adam\n",
    "from keras.layers import Input, Dense, Dropout\n",
    "from keras.models import Model\n",
    "\n",
    "def autoEncoder(X):\n",
    "  '''\n",
    "  Autoencoder for Collaborative Filter Model\n",
    "  '''\n",
    "\n",
    "  # Input\n",
    "  input_layer = Input(shape=(X.shape[1],), name='UserScore')\n",
    "\n",
    "  # Encoder\n",
    "  # -----------------------------\n",
    "  enc = Dense(512, activation='selu', name='EncLayer1')(input_layer)\n",
    "\n",
    "  # Latent Space\n",
    "  # -----------------------------\n",
    "  lat_space = Dense(256, activation='selu', name='LatentSpace')(enc)\n",
    "  lat_space = Dropout(0.8, name='Dropout')(lat_space) # Dropout\n",
    "\n",
    "  # Decoder\n",
    "  # -----------------------------\n",
    "  dec = Dense(512, activation='selu', name='DecLayer1')(lat_space)\n",
    "\n",
    "  # Output\n",
    "  output_layer = Dense(X.shape[1], activation='linear', name='UserScorePred')(dec)\n",
    "\n",
    "  # this model maps an input to its reconstruction\n",
    "  model = Model(input_layer, output_layer)    \n",
    "\n",
    "  return model"
   ]
  },
  {
   "cell_type": "markdown",
   "metadata": {},
   "source": [
    "### Instanciando o modelo"
   ]
  },
  {
   "cell_type": "code",
   "execution_count": null,
   "metadata": {},
   "outputs": [],
   "source": [
    "# input\n",
    "X = users_items_matrix_df.values\n",
    "y = users_items_matrix_df.values\n",
    "\n",
    "# Build model\n",
    "model = autoEncoder(X)\n",
    "model.compile(optimizer = Adam(lr=0.0001), loss='mse')\n",
    "\n",
    "model.summary()"
   ]
  },
  {
   "cell_type": "markdown",
   "metadata": {},
   "source": [
    "### Treinando o modelo"
   ]
  },
  {
   "cell_type": "code",
   "execution_count": null,
   "metadata": {},
   "outputs": [],
   "source": [
    "# Train\n",
    "hist = model.fit(x=X, y=y,\n",
    "                  epochs=50,\n",
    "                  batch_size=64,\n",
    "                  shuffle=True,\n",
    "                  validation_split=0.1)"
   ]
  },
  {
   "cell_type": "markdown",
   "metadata": {},
   "source": [
    "### Recomendação de Conteúdo para o Usuário"
   ]
  },
  {
   "cell_type": "code",
   "execution_count": null,
   "metadata": {},
   "outputs": [],
   "source": [
    "# Predict new Matrix Interactions, set score zero on visualized games\n",
    "new_matrix = model.predict(X) * (X == 0)\n",
    "\n",
    "# converting the reconstructed matrix back to a Pandas dataframe\n",
    "new_users_items_matrix_df  = pd.DataFrame(new_matrix, \n",
    "                                          columns = users_items_matrix_df.columns, \n",
    "                                          index   = users_items_matrix_df.index)\n",
    "new_users_items_matrix_df.head()"
   ]
  },
  {
   "cell_type": "code",
   "execution_count": null,
   "metadata": {},
   "outputs": [],
   "source": [
    "def recommender_for_user(user_id, interact_matrix, df_content, topn = 10):\n",
    "    '''\n",
    "    Recommender Games for UserWarning\n",
    "    '''\n",
    "    pred_scores = interact_matrix.loc[user_id].values\n",
    "\n",
    "    df_scores   = pd.DataFrame({'product_id': list(users_items_matrix_df.columns), \n",
    "                               'score': pred_scores})\n",
    "\n",
    "    df_rec      = df_scores.set_index('product_id')\\\n",
    "                    .join(df_content.set_index('product_id'))\\\n",
    "                    .sort_values('score', ascending=False)\\\n",
    "                    .head(topn)[['score']]\n",
    "    \n",
    "    return df_rec[df_rec.score > 0]"
   ]
  },
  {
   "cell_type": "code",
   "execution_count": null,
   "metadata": {},
   "outputs": [],
   "source": [
    "# Recommended User Games\n",
    "recommender_for_user(user_id         = 'ID-30', \n",
    "                     interact_matrix = new_users_items_matrix_df, \n",
    "                     df_content      = df_products)"
   ]
  }
 ],
 "metadata": {
  "language_info": {
   "name": "python",
   "codemirror_mode": {
    "name": "ipython",
    "version": 3
   },
   "version": "3.7.5-final"
  },
  "orig_nbformat": 2,
  "file_extension": ".py",
  "mimetype": "text/x-python",
  "name": "python",
  "npconvert_exporter": "python",
  "pygments_lexer": "ipython3",
  "version": 3,
  "kernelspec": {
   "name": "python37564bitbartalgorithmvenv861f6a2bb5544afbac619cd0251ea853",
   "display_name": "Python 3.7.5 64-bit ('bart-algorithm': venv)"
  }
 },
 "nbformat": 4,
 "nbformat_minor": 2
}