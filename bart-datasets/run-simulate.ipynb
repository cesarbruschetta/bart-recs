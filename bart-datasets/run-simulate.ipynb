{
 "cells": [
  {
   "cell_type": "markdown",
   "metadata": {},
   "source": [
    "## Simulação do processamento e publicação das recomendações"
   ]
  },
  {
   "cell_type": "code",
   "execution_count": 1,
   "metadata": {},
   "outputs": [],
   "source": [
    "# Import e inicialização do Spark\n",
    "import findspark\n",
    "findspark.init()"
   ]
  },
  {
   "cell_type": "code",
   "execution_count": 2,
   "metadata": {},
   "outputs": [],
   "source": [
    "import boto3\n",
    "import pandas as pd\n",
    "\n",
    "from pyspark.sql import SparkSession\n",
    "\n",
    "spark = (\n",
    "    SparkSession.builder.master(\"local\").appName(\"bart-calc-publish-recs\").getOrCreate()\n",
    ")\n",
    "\n",
    "from bartdatasets.recommendations.calculate_wvav import calculate\n",
    "from bartdatasets.recommendations.publish_wvav import publish"
   ]
  },
  {
   "cell_type": "code",
   "execution_count": 3,
   "metadata": {},
   "outputs": [
    {
     "name": "stdout",
     "output_type": "stream",
     "text": [
      "2020-06-15 16:14:16 DEBUG [s3fs] Setting up s3fs instance\n",
      "2020-06-15 16:14:16 DEBUG [s3fs] Get directory listing page for prd-lake-raw-bart/interactions.parquet\n",
      "2020-06-15 16:14:17 DEBUG [s3fs] Get directory listing page for prd-lake-raw-bart\n",
      "2020-06-15 16:14:17 DEBUG [fsspec] <File-like object S3FileSystem, prd-lake-raw-bart/interactions.parquet> read: 258755 - 324291\n",
      "2020-06-15 16:14:17 DEBUG [s3fs] Fetch: prd-lake-raw-bart/interactions.parquet, 258755-324291\n",
      "2020-06-15 16:14:18 DEBUG [fsspec] <File-like object S3FileSystem, prd-lake-raw-bart/interactions.parquet> read: 258755 - 324291\n",
      "2020-06-15 16:14:18 DEBUG [s3fs] Fetch: prd-lake-raw-bart/interactions.parquet, 258755-324291\n",
      "2020-06-15 16:14:18 DEBUG [fsspec] <File-like object S3FileSystem, prd-lake-raw-bart/interactions.parquet> read: 258755 - 324291\n",
      "2020-06-15 16:14:18 DEBUG [s3fs] Fetch: prd-lake-raw-bart/interactions.parquet, 258755-324291\n",
      "2020-06-15 16:14:18 DEBUG [fsspec] <File-like object S3FileSystem, prd-lake-raw-bart/interactions.parquet> read: 4 - 2316\n",
      "2020-06-15 16:14:18 DEBUG [s3fs] Fetch: prd-lake-raw-bart/interactions.parquet, 4-258755\n",
      "2020-06-15 16:14:19 DEBUG [fsspec] <File-like object S3FileSystem, prd-lake-raw-bart/interactions.parquet> read: 63682 - 203227\n",
      "2020-06-15 16:14:19 DEBUG [fsspec] <File-like object S3FileSystem, prd-lake-raw-bart/interactions.parquet> read: 203335 - 203437\n",
      "2020-06-15 16:14:19 DEBUG [fsspec] <File-like object S3FileSystem, prd-lake-raw-bart/interactions.parquet> read: 2399 - 63537\n",
      "2020-06-15 16:14:19 DEBUG [fsspec] <File-like object S3FileSystem, prd-lake-raw-bart/interactions.parquet> read: 203543 - 320788\n"
     ]
    }
   ],
   "source": [
    "attributes = [\"source_item_id\"]\n",
    "min_occurrence = 2\n",
    "max_recommendations = 200\n",
    "dynamodb = boto3.resource(\"dynamodb\")\n",
    "\n",
    "actions = spark.createDataFrame(\n",
    "    pd.read_parquet(\"s3://prd-lake-raw-bart/interactions.parquet\")\n",
    ")"
   ]
  },
  {
   "cell_type": "code",
   "execution_count": 4,
   "metadata": {},
   "outputs": [],
   "source": [
    "recommendations = calculate(\n",
    "    actions=actions,\n",
    "    min_occurrence=min_occurrence,\n",
    "    max_recommendations=max_recommendations,\n",
    "    attributes=attributes,\n",
    ")"
   ]
  },
  {
   "cell_type": "code",
   "execution_count": 5,
   "metadata": {},
   "outputs": [
    {
     "name": "stdout",
     "output_type": "stream",
     "text": [
      "2020-06-15 16:14:45 INFO  [bartdatasets.recommendations.publish_wvav] Recomendação atualizada: Dce730CE\n",
      "2020-06-15 16:14:45 INFO  [bartdatasets.recommendations.publish_wvav] Recomendação atualizada: a827F4CD\n",
      "2020-06-15 16:14:45 INFO  [bartdatasets.recommendations.publish_wvav] Recomendação atualizada: 24d1E961\n",
      "2020-06-15 16:14:46 INFO  [bartdatasets.recommendations.publish_wvav] Recomendação atualizada: aFaAe1F4\n",
      "2020-06-15 16:14:46 INFO  [bartdatasets.recommendations.publish_wvav] Recomendação atualizada: 3cDfe90c\n",
      "2020-06-15 16:14:46 INFO  [bartdatasets.recommendations.publish_wvav] Recomendação atualizada: CCcd595A\n",
      "2020-06-15 16:14:46 INFO  [bartdatasets.recommendations.publish_wvav] Recomendação atualizada: e895dE1F\n",
      "2020-06-15 16:14:46 INFO  [bartdatasets.recommendations.publish_wvav] Recomendação atualizada: DFcAD8bB\n",
      "2020-06-15 16:14:47 INFO  [bartdatasets.recommendations.publish_wvav] Recomendação atualizada: B2CBd81B\n",
      "2020-06-15 16:14:47 INFO  [bartdatasets.recommendations.publish_wvav] Recomendação atualizada: bEDFB29C\n",
      "2020-06-15 16:14:47 INFO  [bartdatasets.recommendations.publish_wvav] Recomendação atualizada: cDF93A2f\n",
      "2020-06-15 16:14:47 INFO  [bartdatasets.recommendations.publish_wvav] Recomendação atualizada: a2b9FfdB\n",
      "2020-06-15 16:14:47 INFO  [bartdatasets.recommendations.publish_wvav] Recomendação atualizada: Fa0FeA74\n",
      "2020-06-15 16:14:47 INFO  [bartdatasets.recommendations.publish_wvav] Recomendação atualizada: c47DeCf5\n",
      "2020-06-15 16:14:48 INFO  [bartdatasets.recommendations.publish_wvav] Recomendação atualizada: d0E68bDD\n",
      "2020-06-15 16:14:48 INFO  [bartdatasets.recommendations.publish_wvav] Recomendação atualizada: 42D0EBaF\n",
      "2020-06-15 16:14:49 INFO  [bartdatasets.recommendations.publish_wvav] Recomendação atualizada: 20DD1ea3\n",
      "2020-06-15 16:14:49 INFO  [bartdatasets.recommendations.publish_wvav] Recomendação atualizada: 8BABfAcE\n",
      "2020-06-15 16:14:49 INFO  [bartdatasets.recommendations.publish_wvav] Recomendação atualizada: A8312a0A\n",
      "2020-06-15 16:14:49 INFO  [bartdatasets.recommendations.publish_wvav] Recomendação atualizada: 0dd89C7A\n",
      "2020-06-15 16:14:49 INFO  [bartdatasets.recommendations.publish_wvav] Recomendação atualizada: 5fa1Abad\n",
      "2020-06-15 16:14:50 INFO  [bartdatasets.recommendations.publish_wvav] Recomendação atualizada: FA1CacBa\n",
      "2020-06-15 16:14:50 INFO  [bartdatasets.recommendations.publish_wvav] Recomendação atualizada: 199A0EeE\n",
      "2020-06-15 16:14:50 INFO  [bartdatasets.recommendations.publish_wvav] Recomendação atualizada: 4b15bf94\n",
      "2020-06-15 16:14:50 INFO  [bartdatasets.recommendations.publish_wvav] Recomendação atualizada: 8344aA2d\n",
      "2020-06-15 16:14:50 INFO  [bartdatasets.recommendations.publish_wvav] Recomendação atualizada: dBcdA3aF\n",
      "2020-06-15 16:14:50 INFO  [bartdatasets.recommendations.publish_wvav] Recomendação atualizada: acA02FF3\n",
      "2020-06-15 16:14:51 INFO  [bartdatasets.recommendations.publish_wvav] Recomendação atualizada: 7e61cCEE\n",
      "2020-06-15 16:14:51 INFO  [bartdatasets.recommendations.publish_wvav] Recomendação atualizada: 958EdAdE\n",
      "2020-06-15 16:14:51 INFO  [bartdatasets.recommendations.publish_wvav] Recomendação atualizada: f8f4dE3A\n",
      "2020-06-15 16:14:51 INFO  [bartdatasets.recommendations.publish_wvav] Recomendação atualizada: CB2aD3C8\n",
      "2020-06-15 16:14:51 INFO  [bartdatasets.recommendations.publish_wvav] Recomendação atualizada: AEfDffF2\n",
      "2020-06-15 16:14:51 INFO  [bartdatasets.recommendations.publish_wvav] Recomendação atualizada: 2EDf6dD6\n",
      "2020-06-15 16:14:52 INFO  [bartdatasets.recommendations.publish_wvav] Recomendação atualizada: a9ec2CfA\n",
      "2020-06-15 16:14:52 INFO  [bartdatasets.recommendations.publish_wvav] Recomendação atualizada: 9af8e012\n",
      "2020-06-15 16:14:52 INFO  [bartdatasets.recommendations.publish_wvav] Recomendação atualizada: 2bE07C9C\n",
      "2020-06-15 16:14:52 INFO  [bartdatasets.recommendations.publish_wvav] Recomendação atualizada: Cd59FEaD\n",
      "2020-06-15 16:14:52 INFO  [bartdatasets.recommendations.publish_wvav] Recomendação atualizada: d67EE4ee\n",
      "2020-06-15 16:14:53 INFO  [bartdatasets.recommendations.publish_wvav] Recomendação atualizada: cB91BD44\n",
      "2020-06-15 16:14:53 INFO  [bartdatasets.recommendations.publish_wvav] Recomendação atualizada: 1F1AB207\n",
      "2020-06-15 16:14:53 INFO  [bartdatasets.recommendations.publish_wvav] Recomendação atualizada: 4Ddb6B13\n",
      "2020-06-15 16:14:53 INFO  [bartdatasets.recommendations.publish_wvav] Recomendação atualizada: 2E305BAe\n",
      "2020-06-15 16:14:53 INFO  [bartdatasets.recommendations.publish_wvav] Recomendação atualizada: 43700EA4\n",
      "2020-06-15 16:14:53 INFO  [bartdatasets.recommendations.publish_wvav] Recomendação atualizada: 5A8a16e7\n",
      "2020-06-15 16:14:54 INFO  [bartdatasets.recommendations.publish_wvav] Recomendação atualizada: faeDe05d\n",
      "2020-06-15 16:14:54 INFO  [bartdatasets.recommendations.publish_wvav] Recomendação atualizada: 99E50C86\n",
      "2020-06-15 16:14:54 INFO  [bartdatasets.recommendations.publish_wvav] Recomendação atualizada: aCeD0BBa\n",
      "2020-06-15 16:14:54 INFO  [bartdatasets.recommendations.publish_wvav] Recomendação atualizada: C39AABFA\n",
      "2020-06-15 16:14:54 INFO  [bartdatasets.recommendations.publish_wvav] Recomendação atualizada: E6E72e9C\n",
      "2020-06-15 16:14:54 INFO  [bartdatasets.recommendations.publish_wvav] Recomendação atualizada: c6141B69\n",
      "2020-06-15 16:14:55 INFO  [bartdatasets.recommendations.publish_wvav] Recomendação atualizada: 03cd416f\n",
      "2020-06-15 16:14:55 INFO  [bartdatasets.recommendations.publish_wvav] Recomendação atualizada: Ca3e3Eda\n",
      "2020-06-15 16:14:55 INFO  [bartdatasets.recommendations.publish_wvav] Recomendação atualizada: eDD9Eb2E\n",
      "2020-06-15 16:14:55 INFO  [bartdatasets.recommendations.publish_wvav] Recomendação atualizada: f3237825\n",
      "2020-06-15 16:14:55 INFO  [bartdatasets.recommendations.publish_wvav] Recomendação atualizada: 02b28c2b\n",
      "2020-06-15 16:14:55 INFO  [bartdatasets.recommendations.publish_wvav] Recomendação atualizada: 14807fdc\n",
      "2020-06-15 16:14:56 INFO  [bartdatasets.recommendations.publish_wvav] Recomendação atualizada: 712714EB\n",
      "2020-06-15 16:14:56 INFO  [bartdatasets.recommendations.publish_wvav] Recomendação atualizada: e2420fCA\n",
      "2020-06-15 16:14:56 INFO  [bartdatasets.recommendations.publish_wvav] Recomendação atualizada: d596D579\n",
      "2020-06-15 16:14:56 INFO  [bartdatasets.recommendations.publish_wvav] Recomendação atualizada: 11e0bdf8\n",
      "2020-06-15 16:14:56 INFO  [bartdatasets.recommendations.publish_wvav] Recomendação atualizada: 60cDbc95\n",
      "2020-06-15 16:14:57 INFO  [bartdatasets.recommendations.publish_wvav] Recomendação atualizada: 4fadEB9a\n",
      "2020-06-15 16:14:57 INFO  [bartdatasets.recommendations.publish_wvav] Recomendação atualizada: CFfb8731\n",
      "2020-06-15 16:14:57 INFO  [bartdatasets.recommendations.publish_wvav] Recomendação atualizada: a8D93CAc\n",
      "2020-06-15 16:14:57 INFO  [bartdatasets.recommendations.publish_wvav] Recomendação atualizada: 5cFCEC19\n",
      "2020-06-15 16:14:57 INFO  [bartdatasets.recommendations.publish_wvav] Recomendação atualizada: 94Aeafb4\n",
      "2020-06-15 16:14:58 INFO  [bartdatasets.recommendations.publish_wvav] Recomendação atualizada: DcbFaBda\n",
      "2020-06-15 16:14:58 INFO  [bartdatasets.recommendations.publish_wvav] Recomendação atualizada: 57BF5df3\n",
      "2020-06-15 16:14:58 INFO  [bartdatasets.recommendations.publish_wvav] Recomendação atualizada: fecDbbfb\n",
      "2020-06-15 16:14:58 INFO  [bartdatasets.recommendations.publish_wvav] Recomendação atualizada: 5Dac2a6a\n",
      "2020-06-15 16:14:58 INFO  [bartdatasets.recommendations.publish_wvav] Recomendação atualizada: BfDd34cA\n",
      "2020-06-15 16:14:59 INFO  [bartdatasets.recommendations.publish_wvav] Recomendação atualizada: 1b160DBF\n",
      "2020-06-15 16:14:59 INFO  [bartdatasets.recommendations.publish_wvav] Recomendação atualizada: 22AC56a5\n",
      "2020-06-15 16:14:59 INFO  [bartdatasets.recommendations.publish_wvav] Recomendação atualizada: FdD6f485\n",
      "2020-06-15 16:14:59 INFO  [bartdatasets.recommendations.publish_wvav] Recomendação atualizada: bCe02E2F\n",
      "2020-06-15 16:14:59 INFO  [bartdatasets.recommendations.publish_wvav] Recomendação atualizada: 0c21b8cE\n",
      "2020-06-15 16:15:00 INFO  [bartdatasets.recommendations.publish_wvav] Recomendação atualizada: 47B6f35b\n",
      "2020-06-15 16:15:00 INFO  [bartdatasets.recommendations.publish_wvav] Recomendação atualizada: F3aCFE4f\n",
      "2020-06-15 16:15:00 INFO  [bartdatasets.recommendations.publish_wvav] Recomendação atualizada: c366Ea37\n"
     ]
    },
    {
     "name": "stdout",
     "output_type": "stream",
     "text": [
      "2020-06-15 16:15:00 INFO  [bartdatasets.recommendations.publish_wvav] Recomendação atualizada: D3DDD4B3\n",
      "2020-06-15 16:15:00 INFO  [bartdatasets.recommendations.publish_wvav] Recomendação atualizada: dfe00AC7\n",
      "2020-06-15 16:15:01 INFO  [bartdatasets.recommendations.publish_wvav] Recomendação atualizada: bBBAafb4\n",
      "2020-06-15 16:15:01 INFO  [bartdatasets.recommendations.publish_wvav] Recomendação atualizada: a71bB9E3\n",
      "2020-06-15 16:15:01 INFO  [bartdatasets.recommendations.publish_wvav] Recomendação atualizada: 39D90E8F\n",
      "2020-06-15 16:15:01 INFO  [bartdatasets.recommendations.publish_wvav] Recomendação atualizada: 60FA4eBA\n",
      "2020-06-15 16:15:01 INFO  [bartdatasets.recommendations.publish_wvav] Recomendação atualizada: 1ae719A5\n",
      "2020-06-15 16:15:01 INFO  [bartdatasets.recommendations.publish_wvav] Recomendação atualizada: 3cAeBfC1\n",
      "2020-06-15 16:15:02 INFO  [bartdatasets.recommendations.publish_wvav] Recomendação atualizada: 0380F5E1\n",
      "2020-06-15 16:15:02 INFO  [bartdatasets.recommendations.publish_wvav] Recomendação atualizada: 21e4BcbA\n",
      "2020-06-15 16:15:02 INFO  [bartdatasets.recommendations.publish_wvav] Recomendação atualizada: 87bF16e3\n",
      "2020-06-15 16:15:02 INFO  [bartdatasets.recommendations.publish_wvav] Recomendação atualizada: 12EbC1dc\n",
      "2020-06-15 16:15:02 INFO  [bartdatasets.recommendations.publish_wvav] Recomendação atualizada: 9702dfaA\n",
      "2020-06-15 16:15:03 INFO  [bartdatasets.recommendations.publish_wvav] Recomendação atualizada: 0f039eBe\n",
      "2020-06-15 16:15:03 INFO  [bartdatasets.recommendations.publish_wvav] Recomendação atualizada: C0d8aAc1\n",
      "2020-06-15 16:15:03 INFO  [bartdatasets.recommendations.publish_wvav] Recomendação atualizada: 624Eb6eE\n",
      "2020-06-15 16:15:03 INFO  [bartdatasets.recommendations.publish_wvav] Recomendação atualizada: d3b3EDDc\n",
      "2020-06-15 16:15:03 INFO  [bartdatasets.recommendations.publish_wvav] Recomendação atualizada: 9C0AdD3A\n",
      "2020-06-15 16:15:04 INFO  [bartdatasets.recommendations.publish_wvav] Recomendação atualizada: cA5aF3BA\n",
      "2020-06-15 16:15:04 INFO  [bartdatasets.recommendations.publish_wvav] Recomendação atualizada: 8b95Db5d\n",
      "2020-06-15 16:15:05 INFO  [bartdatasets.recommendations.publish_wvav] Recomendação atualizada: DCAAafDC\n"
     ]
    }
   ],
   "source": [
    "dynamodb = boto3.resource('dynamodb')\n",
    "\n",
    "publish(\n",
    "    recommendations, \n",
    "    dynamodb.Table(\"bart-recommendations-wvav\"),\n",
    ")"
   ]
  }
 ],
 "metadata": {
  "kernelspec": {
   "display_name": "bart-datasets",
   "language": "python",
   "name": "bart-datasets"
  },
  "language_info": {
   "codemirror_mode": {
    "name": "ipython",
    "version": 3
   },
   "file_extension": ".py",
   "mimetype": "text/x-python",
   "name": "python",
   "nbconvert_exporter": "python",
   "pygments_lexer": "ipython3",
   "version": "3.6.10"
  }
 },
 "nbformat": 4,
 "nbformat_minor": 4
}
