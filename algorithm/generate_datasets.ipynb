{
  "cells": [
    {
      "cell_type": "markdown",
      "metadata": {
        "id": "XO0L0v1X65he",
        "colab_type": "text"
      },
      "source": [
        "## Geração dos DataSets de Clientes, Produtos e Interações"
      ]
    },
    {
      "cell_type": "code",
      "metadata": {
        "id": "u-qk3Zo667Jy",
        "colab_type": "code",
        "colab": {
          "base_uri": "https://localhost:8080/",
          "height": 105
        },
        "outputId": "f75bb5e4-c8e9-4177-8096-31ac98f4e1fd"
      },
      "source": [
        "! pip install Faker"
      ],
      "execution_count": 1,
      "outputs": [
        {
          "output_type": "stream",
          "text": [
            "Requirement already satisfied: Faker in /usr/local/lib/python3.6/dist-packages (4.0.3)\n",
            "Requirement already satisfied: python-dateutil>=2.4 in /usr/local/lib/python3.6/dist-packages (from Faker) (2.8.1)\n",
            "Requirement already satisfied: text-unidecode==1.3 in /usr/local/lib/python3.6/dist-packages (from Faker) (1.3)\n",
            "Requirement already satisfied: six>=1.5 in /usr/local/lib/python3.6/dist-packages (from python-dateutil>=2.4->Faker) (1.12.0)\n"
          ],
          "name": "stdout"
        }
      ]
    },
    {
      "cell_type": "markdown",
      "metadata": {
        "id": "wn2Q9KEH65hg",
        "colab_type": "text"
      },
      "source": [
        "### Importação da bibliotecas"
      ]
    },
    {
      "cell_type": "code",
      "metadata": {
        "id": "UEXl3gFP65hh",
        "colab_type": "code",
        "colab": {}
      },
      "source": [
        "import string\n",
        "import random\n",
        "from faker import Faker\n",
        "from uuid import uuid4\n",
        "\n",
        "import pandas as pd\n",
        "import numpy as np"
      ],
      "execution_count": 3,
      "outputs": []
    },
    {
      "cell_type": "markdown",
      "metadata": {
        "id": "B-OtoPIp65hq",
        "colab_type": "text"
      },
      "source": [
        "### Variaveis de configurações"
      ]
    },
    {
      "cell_type": "code",
      "metadata": {
        "id": "UVDx5-Ge65ht",
        "colab_type": "code",
        "colab": {}
      },
      "source": [
        "fake = Faker('pt-BR')\n",
        "\n",
        "number_of_rows = 100000\n",
        "VIEWED = 1\n",
        "\n",
        "columns_customers = ['uuid', 'name']\n",
        "columns_products = ['sku', 'title', 'description', 'price']\n",
        "columns_interactions = ['customer_id', 'product_id', 'action_id','timestamp']"
      ],
      "execution_count": 9,
      "outputs": []
    },
    {
      "cell_type": "markdown",
      "metadata": {
        "id": "T7fdhq0565hx",
        "colab_type": "text"
      },
      "source": [
        "### Gerando DataSet de Clientes"
      ]
    },
    {
      "cell_type": "code",
      "metadata": {
        "id": "Mtxa4RnE65hy",
        "colab_type": "code",
        "colab": {}
      },
      "source": [
        "df_customers = pd.DataFrame(\n",
        "    columns=columns_customers,\n",
        "    data=[\n",
        "        [str(uuid4()), fake.name()]\n",
        "        for _ in np.arange(0, number_of_rows / 100)\n",
        "    ]\n",
        ")\n",
        "\n",
        "# Persistindo dataset\n",
        "df_customers.to_csv('customers.csv')"
      ],
      "execution_count": 3,
      "outputs": []
    },
    {
      "cell_type": "markdown",
      "metadata": {
        "id": "tjHWSjx165h1",
        "colab_type": "text"
      },
      "source": [
        "### Gerando DataSet de Produtos"
      ]
    },
    {
      "cell_type": "code",
      "metadata": {
        "id": "9cdFI7Oz65h2",
        "colab_type": "code",
        "colab": {}
      },
      "source": [
        "df_products = pd.DataFrame(\n",
        "    columns=columns_products,\n",
        "    data=[\n",
        "        [\n",
        "            ''.join(np.random.choice(list(string.hexdigits), 8)),\n",
        "            fake.sentence(),\n",
        "            fake.text(),\n",
        "            random.randint(1, 1000)\n",
        "        ] for _id in np.arange(0, number_of_rows / 1000)\n",
        "    ]\n",
        ")\n",
        "# Persistindo dataset\n",
        "df_products.to_csv('products.csv')\n",
        "df_products.to_json('products.json', orient='records', indent=4)"
      ],
      "execution_count": 10,
      "outputs": []
    },
    {
      "cell_type": "markdown",
      "metadata": {
        "id": "INyXXXy865iC",
        "colab_type": "text"
      },
      "source": [
        "### Gerando DataSet de Interações"
      ]
    },
    {
      "cell_type": "code",
      "metadata": {
        "id": "5ALflWO-65iE",
        "colab_type": "code",
        "colab": {}
      },
      "source": [
        "df_customers = pd.read_csv('customers.csv')\n",
        "df_products = pd.read_csv('products.csv')\n",
        "\n",
        "df_sample_customers = df_customers.sample(frac=0.7).reset_index(drop=True)\n",
        "\n",
        "df_interactions = pd.DataFrame(\n",
        "    columns=columns_interactions,\n",
        "    data=[\n",
        "        dict(\n",
        "            customer_id=df_sample_customers.sample().iloc[0]['uuid'],\n",
        "            product_id=df_products.sample().iloc[0]['sku'],\n",
        "            action_id=VIEWED,\n",
        "            timestamp=fake.date_time_between(start_date='-1d', end_date='now').timestamp()\n",
        "        ) for _ in np.arange(0, number_of_rows)]\n",
        ")\n",
        "\n",
        "# Persistindo dataset\n",
        "df_interactions.to_csv('interactions.csv')"
      ],
      "execution_count": 6,
      "outputs": []
    }
  ],
  "metadata": {
    "kernelspec": {
      "display_name": "Python 3.7.5 64-bit ('bart-algorithm': venv)",
      "language": "python",
      "name": "python37564bitbartalgorithmvenv861f6a2bb5544afbac619cd0251ea853"
    },
    "language_info": {
      "codemirror_mode": {
        "name": "ipython",
        "version": 3
      },
      "file_extension": ".py",
      "mimetype": "text/x-python",
      "name": "python",
      "nbconvert_exporter": "python",
      "pygments_lexer": "ipython3",
      "version": "3.7.5-final"
    },
    "colab": {
      "name": "generate_datasets.ipynb",
      "provenance": [],
      "collapsed_sections": [],
      "toc_visible": true,
      "machine_shape": "hm"
    }
  },
  "nbformat": 4,
  "nbformat_minor": 0
}