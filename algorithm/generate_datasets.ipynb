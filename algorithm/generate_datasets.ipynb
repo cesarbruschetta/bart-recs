{
  "cells": [
    {
      "cell_type": "markdown",
      "metadata": {
        "id": "XO0L0v1X65he",
        "colab_type": "text"
      },
      "source": [
        "## Geração dos DataSets de Interações"
      ]
    },
    {
      "cell_type": "markdown",
      "metadata": {
        "id": "wn2Q9KEH65hg",
        "colab_type": "text"
      },
      "source": [
        "### Importação da bibliotecas"
      ]
    },
    {
      "cell_type": "code",
      "metadata": {
        "id": "UEXl3gFP65hh",
        "colab_type": "code",
        "colab": {}
      },
      "source": [
        "import pandas as pd\n",
        "import numpy as np\n",
        "\n",
        "from random import randrange, choice\n",
        "from datetime import datetime, timedelta"
      ],
      "execution_count": 1,
      "outputs": []
    },
    {
      "cell_type": "markdown",
      "metadata": {
        "id": "B-OtoPIp65hq",
        "colab_type": "text"
      },
      "source": [
        "### Variaveis de configurações"
      ]
    },
    {
      "cell_type": "code",
      "metadata": {
        "id": "UVDx5-Ge65ht",
        "colab_type": "code",
        "colab": {}
      },
      "source": [
        "number_of_rows = 100000 # 100K\n",
        "VIEWED = 1\n",
        "\n",
        "columns_interactions = ['customer_id', 'product_id', 'action_id','timestamp']"
      ],
      "execution_count": 2,
      "outputs": []
    },
    {
      "cell_type": "code",
      "execution_count": 3,
      "metadata": {},
      "outputs": [],
      "source": [
        "# Metodo para gerar a lista de datetime aleatorias\n",
        "\n",
        "def daterange(date1, date2):\n",
        "    for n in range(int((date2 - date1).total_seconds()) + 1):\n",
        "        yield date1 + timedelta(seconds=n)"
      ]
    },
    {
      "cell_type": "markdown",
      "metadata": {
        "id": "INyXXXy865iC",
        "colab_type": "text"
      },
      "source": [
        "### Gerando DataSet de Interações"
      ]
    },
    {
      "cell_type": "code",
      "metadata": {
        "id": "5ALflWO-65iE",
        "colab_type": "code",
        "colab": {}
      },
      "source": [
        "df_customers = pd.read_csv('../datasets/customers.csv')\n",
        "df_products = pd.read_csv('../datasets/products.csv')\n",
        "\n",
        "df_sample_customers = df_customers.sample(frac=0.7).reset_index(drop=True)\n",
        "\n",
        "end_dt = datetime.now()\n",
        "start_dt = end_dt - timedelta(days=1)\n",
        "\n",
        "range_date = list(daterange(start_dt, end_dt))"
      ],
      "execution_count": 4,
      "outputs": []
    },
    {
      "cell_type": "code",
      "execution_count": 5,
      "metadata": {},
      "outputs": [],
      "source": [
        "df_interactions = pd.DataFrame(\n",
        "    columns=columns_interactions,\n",
        "    data=[\n",
        "        dict(\n",
        "            customer_id=df_sample_customers.sample().iloc[0]['uuid'],\n",
        "            product_id=df_products.sample().iloc[0]['sku'],\n",
        "            action_id=VIEWED,\n",
        "            timestamp=choice(range_date).timestamp()\n",
        "        ) for _ in np.arange(0, number_of_rows)]\n",
        ")\n",
        "\n",
        "# Persistindo dataset\n",
        "df_interactions.to_csv('interactions.csv')"
      ]
    }
  ],
  "metadata": {
    "kernelspec": {
      "display_name": "Python 3.7.5 64-bit ('bart-algorithm': venv)",
      "language": "python",
      "name": "python37564bitbartalgorithmvenv861f6a2bb5544afbac619cd0251ea853"
    },
    "language_info": {
      "codemirror_mode": {
        "name": "ipython",
        "version": 3
      },
      "file_extension": ".py",
      "mimetype": "text/x-python",
      "name": "python",
      "nbconvert_exporter": "python",
      "pygments_lexer": "ipython3",
      "version": "3.7.5-final"
    },
    "colab": {
      "name": "generate_datasets.ipynb",
      "provenance": [],
      "collapsed_sections": [],
      "toc_visible": true,
      "machine_shape": "hm"
    }
  },
  "nbformat": 4,
  "nbformat_minor": 0
}