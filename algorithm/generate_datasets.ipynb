{
 "cells": [
  {
   "cell_type": "markdown",
   "metadata": {},
   "source": [
    "## Geração dos DataSets de Clientes, Produtos e Interações"
   ]
  },
  {
   "cell_type": "markdown",
   "metadata": {},
   "source": [
    "### Importação da bibliotecas"
   ]
  },
  {
   "cell_type": "code",
   "execution_count": 1,
   "metadata": {},
   "outputs": [],
   "source": [
    "import string\n",
    "from faker import Faker\n",
    "from uuid import uuid4\n",
    "\n",
    "import pandas as pd\n",
    "import numpy as np"
   ]
  },
  {
   "cell_type": "code",
   "execution_count": null,
   "metadata": {},
   "outputs": [],
   "source": []
  },
  {
   "cell_type": "markdown",
   "metadata": {},
   "source": [
    "### Variaveis de configurações"
   ]
  },
  {
   "cell_type": "code",
   "execution_count": 2,
   "metadata": {},
   "outputs": [],
   "source": [
    "fake = Faker('pt-BR')\n",
    "\n",
    "number_of_rows = 1000000\n",
    "VIEWED = 1\n",
    "\n",
    "columns_customers = ['uuid', 'name']\n",
    "columns_products = ['sku', 'title']\n",
    "columns_interactions = ['customer_id', 'product_id', 'action_id','timestamp']"
   ]
  },
  {
   "cell_type": "markdown",
   "metadata": {},
   "source": [
    "### Gerando DataSet de Clientes"
   ]
  },
  {
   "cell_type": "code",
   "execution_count": 3,
   "metadata": {},
   "outputs": [],
   "source": [
    "df_customers = pd.DataFrame(\n",
    "    columns=columns_customers,\n",
    "    data=[\n",
    "        [str(uuid4()), fake.name()]\n",
    "        for _ in np.arange(0, number_of_rows)\n",
    "    ]\n",
    ")\n",
    "\n",
    "# Persistindo dataset\n",
    "df_customers.to_csv('customers.csv')"
   ]
  },
  {
   "cell_type": "markdown",
   "metadata": {},
   "source": [
    "### Gerando DataSet de Produtos"
   ]
  },
  {
   "cell_type": "code",
   "execution_count": 4,
   "metadata": {},
   "outputs": [],
   "source": [
    "df_products = pd.DataFrame(\n",
    "    columns=columns_products,\n",
    "    data=[\n",
    "        [''.join(np.random.choice(list(string.hexdigits), 8)), fake.sentence()]\n",
    "        for _ in np.arange(0, number_of_rows / 100)\n",
    "    ]\n",
    ")\n",
    "# Persistindo dataset\n",
    "df_products.to_csv('products.csv')"
   ]
  },
  {
   "cell_type": "markdown",
   "metadata": {},
   "source": [
    "### Gerando DataSet de Interações"
   ]
  },
  {
   "cell_type": "code",
   "execution_count": 8,
   "metadata": {},
   "outputs": [],
   "source": [
    "df_customers = pd.read_csv('customers.csv')\n",
    "df_products = pd.read_csv('products.csv')\n",
    "\n",
    "df_interactions = pd.DataFrame(\n",
    "    columns=columns_interactions,\n",
    "    data=[\n",
    "        [\n",
    "            df_customers.sample(1).iloc[0]['uuid'],\n",
    "            df_products.sample(1).iloc[0]['sku'],\n",
    "            VIEWED,\n",
    "            fake.date_time_between(start_date='-1d', end_date='now').timestamp()\n",
    "        ] for _ in np.arange(0, number_of_rows/1000) \n",
    "    ]\n",
    ")\n",
    "\n",
    "# Persistindo dataset\n",
    "df_interactions.to_csv('interactions.csv')"
   ]
  }
 ],
 "metadata": {
  "kernelspec": {
   "display_name": "Python 3.7.5 64-bit ('bart-algorithm': venv)",
   "language": "python",
   "name": "python37564bitbartalgorithmvenv861f6a2bb5544afbac619cd0251ea853"
  },
  "language_info": {
   "codemirror_mode": {
    "name": "ipython",
    "version": 3
   },
   "file_extension": ".py",
   "mimetype": "text/x-python",
   "name": "python",
   "nbconvert_exporter": "python",
   "pygments_lexer": "ipython3",
   "version": "3.7.5-final"
  }
 },
 "nbformat": 4,
 "nbformat_minor": 4
}